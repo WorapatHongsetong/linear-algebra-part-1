{
    "cells": [
        {
            "cell_type": "code",
            "execution_count": 2,
            "id": "6f72d992",
            "metadata": {},
            "outputs": [],
            "source": [
                "import numpy as np\n",
                "import json_tricks\n",
                "\n",
                "\n",
                "inputs = json_tricks.load('inputs/inputs.json')\n",
                "answer = {}\n"
            ]
        },
        {
            "cell_type": "markdown",
            "id": "df6511fd",
            "metadata": {},
            "source": [
                "# Task"
            ]
        },
        {
            "cell_type": "markdown",
            "id": "b9f89b1e",
            "metadata": {},
            "source": [
                "You are given a linear hyperspace by 2 entities:\n",
                "- a vector that belongs to the hyperspace $\\mathbf x_0$\n",
                "- a normal vector to this hyperspace $\\mathbf w$\n",
                "\n",
                "So that the hyperplane is given by equation:\n",
                "\n",
                "$\\left<\\mathbf w, \\mathbf x - \\mathbf x_0\\right> = 0$\n",
                "\n",
                "You are also given another vector $\\mathbf y$. \n",
                "\n",
                "Find distance from this vector to the given hyperplane."
            ]
        },
        {
            "cell_type": "code",
            "execution_count": 4,
            "id": "6f14336b",
            "metadata": {},
            "outputs": [],
            "source": [
                "def distance_to_hyperplane_1(y, w, x0):\n",
                "    numerator = np.abs(np.dot(w, y - x0))           \n",
                "    denominator = np.linalg.norm(w)                 \n",
                "    res = numerator / denominator                   \n",
                "    return res\n"
            ]
        },
        {
            "cell_type": "code",
            "execution_count": 5,
            "id": "2c3b30e3",
            "metadata": {},
            "outputs": [],
            "source": [
                "answer['task1'] = []\n",
                "for one_input in inputs['task1']:\n",
                "    answer['task1'].append(\n",
                "        distance_to_hyperplane_1(**one_input))"
            ]
        },
        {
            "cell_type": "markdown",
            "id": "d472a155",
            "metadata": {},
            "source": [
                "# Task"
            ]
        },
        {
            "cell_type": "markdown",
            "id": "21387b9f",
            "metadata": {},
            "source": [
                "You are given a linear hyperspace by 2 entities:\n",
                "- a vector that belongs to the hyperspace $\\mathbf x_0$\n",
                "- a set of direction vectors for this hyperspace $\\mathbf a_1, \\dots, \\mathbf a_K$ in form of column-matrix \n",
                "    \n",
                "    $A = \\begin{bmatrix}\n",
                "    | & | & & | \\\\\n",
                "    \\mathbf a_1 & \\mathbf a_2 & \\dots & \\mathbf a_K \\\\\n",
                "    | & | & & | \\\\\n",
                "    \\end{bmatrix}$\n",
                "\n",
                "So that the hyperplane is given by equation:\n",
                "\n",
                "$\\mathbf x_0 + \\sum_{k=1}^K \\alpha_k \\mathbf a_k = \\mathbf 0$\n",
                "\n",
                "You are also given another vector $\\mathbf y$. \n",
                "\n",
                "Find distance from this vector to the given hyperplane."
            ]
        },
        {
            "cell_type": "code",
            "execution_count": 6,
            "id": "a1feed22",
            "metadata": {},
            "outputs": [],
            "source": [
                "def distance_to_hyperplane_2(y, A, x0):\n",
                "    diff = y - x0\n",
                "    ATA_inv = np.linalg.pinv(A.T @ A\n",
                "    proj = A @ ATA_inv @ A.T @ diff        # projection of diff onto the subspace\n",
                "    perp = diff - proj                     # orthogonal component\n",
                "    return np.linalg.norm(perp)            # its norm is the distance\n"
            ]
        },
        {
            "cell_type": "code",
            "execution_count": 7,
            "id": "0c2de6b6",
            "metadata": {},
            "outputs": [
                {
                    "ename": "ValueError",
                    "evalue": "matmul: Input operand 1 has a mismatch in its core dimension 0, with gufunc signature (n?,k),(k,m?)->(n?,m?) (size 63 is different from 49)",
                    "output_type": "error",
                    "traceback": [
                        "\u001b[31m---------------------------------------------------------------------------\u001b[39m",
                        "\u001b[31mValueError\u001b[39m                                Traceback (most recent call last)",
                        "\u001b[36mCell\u001b[39m\u001b[36m \u001b[39m\u001b[32mIn[14]\u001b[39m\u001b[32m, line 4\u001b[39m\n\u001b[32m      1\u001b[39m answer[\u001b[33m'\u001b[39m\u001b[33mtask2\u001b[39m\u001b[33m'\u001b[39m] = []\n\u001b[32m      2\u001b[39m \u001b[38;5;28;01mfor\u001b[39;00m one_input \u001b[38;5;129;01min\u001b[39;00m inputs[\u001b[33m'\u001b[39m\u001b[33mtask2\u001b[39m\u001b[33m'\u001b[39m]:\n\u001b[32m      3\u001b[39m     answer[\u001b[33m'\u001b[39m\u001b[33mtask2\u001b[39m\u001b[33m'\u001b[39m].append(\n\u001b[32m----> \u001b[39m\u001b[32m4\u001b[39m         \u001b[43mdistance_to_hyperplane_2\u001b[49m\u001b[43m(\u001b[49m\u001b[43m*\u001b[49m\u001b[43m*\u001b[49m\u001b[43mone_input\u001b[49m\u001b[43m)\u001b[49m)\n",
                        "\u001b[36mCell\u001b[39m\u001b[36m \u001b[39m\u001b[32mIn[13]\u001b[39m\u001b[32m, line 8\u001b[39m, in \u001b[36mdistance_to_hyperplane_2\u001b[39m\u001b[34m(y, A, x0)\u001b[39m\n\u001b[32m      6\u001b[39m diff = y - x0                          \u001b[38;5;66;03m# vector from point on hyperplane to y\u001b[39;00m\n\u001b[32m      7\u001b[39m ATA_inv = np.linalg.pinv(A.T @ A)      \u001b[38;5;66;03m# pseudoinverse in case A not full rank\u001b[39;00m\n\u001b[32m----> \u001b[39m\u001b[32m8\u001b[39m proj = \u001b[43mA\u001b[49m\u001b[43m \u001b[49m\u001b[43m@\u001b[49m\u001b[43m \u001b[49m\u001b[43mATA_inv\u001b[49m\u001b[43m \u001b[49m\u001b[43m@\u001b[49m\u001b[43m \u001b[49m\u001b[43mA\u001b[49m\u001b[43m.\u001b[49m\u001b[43mT\u001b[49m\u001b[43m \u001b[49m\u001b[43m@\u001b[49m\u001b[43m \u001b[49m\u001b[43mdiff\u001b[49m        \u001b[38;5;66;03m# projection of diff onto the subspace\u001b[39;00m\n\u001b[32m      9\u001b[39m perp = diff - proj                     \u001b[38;5;66;03m# orthogonal component\u001b[39;00m\n\u001b[32m     10\u001b[39m \u001b[38;5;28;01mreturn\u001b[39;00m np.linalg.norm(perp)\n",
                        "\u001b[31mValueError\u001b[39m: matmul: Input operand 1 has a mismatch in its core dimension 0, with gufunc signature (n?,k),(k,m?)->(n?,m?) (size 63 is different from 49)"
                    ]
                }
            ],
            "source": [
                "answer['task2'] = []\n",
                "for one_input in inputs['task2']:\n",
                "    answer['task2'].append(\n",
                "        distance_to_hyperplane_2(**one_input))"
            ]
        },
        {
            "cell_type": "markdown",
            "id": "ecea6a3e",
            "metadata": {},
            "source": [
                "# Task"
            ]
        },
        {
            "cell_type": "markdown",
            "id": "db4d58c6",
            "metadata": {},
            "source": [
                "You are given 2 linear hyperspaces, each defined by 2 entities:\n",
                "- a vector that belongs to the hyperspace $\\mathbf x_0$\n",
                "- a set of direction vectors for this hyperspace $\\mathbf a_1, \\dots, \\mathbf a_K$ in form of column-matrix \n",
                "\n",
                "So that each of the hyperplanes is given by equation:\n",
                "\n",
                "$\\mathbf x_0 + \\sum_{k=1}^K \\alpha_k \\mathbf a_k = \\mathbf 0$\n",
                "\n",
                "Find distance between these hyperplanes."
            ]
        },
        {
            "cell_type": "code",
            "execution_count": 8,
            "id": "af62102a",
            "metadata": {},
            "outputs": [],
            "source": [
                "def distance_to_hyperplane_3(A, x0, B, y0):\n",
                "    res = 0\n",
                "    ## YOUR CODE HERE\n",
                "    return res"
            ]
        },
        {
            "cell_type": "code",
            "execution_count": 9,
            "id": "97fb9e0d",
            "metadata": {},
            "outputs": [],
            "source": [
                "answer['task3'] = []\n",
                "for one_input in inputs['task3']:\n",
                "    answer['task3'].append(\n",
                "        distance_to_hyperplane_3(**one_input))"
            ]
        },
        {
            "cell_type": "code",
            "execution_count": 10,
            "id": "3313eaf1",
            "metadata": {},
            "outputs": [],
            "source": [
                "json_tricks.dump(answer, '.answer.json')"
            ]
        }
    ],
    "metadata": {
        "kernelspec": {
            "display_name": ".venv",
            "language": "python",
            "name": "python3"
        },
        "language_info": {
            "codemirror_mode": {
                "name": "ipython",
                "version": 3
            },
            "file_extension": ".py",
            "mimetype": "text/x-python",
            "name": "python",
            "nbconvert_exporter": "python",
            "pygments_lexer": "ipython3",
            "version": "3.11.13"
        }
    },
    "nbformat": 4,
    "nbformat_minor": 5
}
