{
    "cells": [
        {
            "cell_type": "markdown",
            "metadata": {},
            "source": [
                "# Permutations II\n",
                "\n",
                "Write a program that calculates the determinant of a matrix and all the products leading to this value using permutation formula:\n",
                "\n",
                "$$\\det A = \\sum_{\\sigma \\in P_N} \\mathrm{sign} (\\sigma) \\prod_{i=1}^N a_{\\sigma_i}$$\n",
                "\n",
                "To get the list of all possible permutations, use `itertools.permutations`.\n",
                "\n",
                "To check for the sign of a pertmutation, check lengths of all cycles in every permutation."
            ]
        },
        {
            "cell_type": "code",
            "execution_count": 4,
            "metadata": {},
            "outputs": [],
            "source": [
                "import numpy as np\n",
                "import json_tricks\n",
                "from pathlib import Path\n",
                "import os"
            ]
        },
        {
            "cell_type": "code",
            "execution_count": 7,
            "metadata": {},
            "outputs": [],
            "source": [
                "from itertools import permutations\n",
                "\n",
                "def determinant(A):\n",
                "    # Ensure the matrix is square\n",
                "    n = A.shape[0]\n",
                "    assert A.shape[0] == A.shape[1]\n",
                "\n",
                "    det = 0\n",
                "    elements = [vec for vec in A]\n",
                "    for perm in permutations(range(n)):\n",
                "        sign = (-1) ** sum(1 for i in range(n) for j in range(i + 1, n) if perm[i] > perm[j])\n",
                "        product = np.prod([A[i, perm[i]] for i in range(n)])\n",
                "        det += sign * product\n",
                "\n",
                "    return det, sorted(elements)\n"
            ]
        },
        {
            "cell_type": "code",
            "execution_count": 8,
            "metadata": {},
            "outputs": [
                {
                    "ename": "ValueError",
                    "evalue": "The truth value of an array with more than one element is ambiguous. Use a.any() or a.all()",
                    "output_type": "error",
                    "traceback": [
                        "\u001b[31m---------------------------------------------------------------------------\u001b[39m",
                        "\u001b[31mValueError\u001b[39m                                Traceback (most recent call last)",
                        "\u001b[36mCell\u001b[39m\u001b[36m \u001b[39m\u001b[32mIn[8]\u001b[39m\u001b[32m, line 5\u001b[39m\n\u001b[32m      2\u001b[39m results = {\u001b[33m'\u001b[39m\u001b[33mresults\u001b[39m\u001b[33m'\u001b[39m: []}\n\u001b[32m      4\u001b[39m \u001b[38;5;28;01mfor\u001b[39;00m args \u001b[38;5;129;01min\u001b[39;00m inputs[\u001b[33m'\u001b[39m\u001b[33minputs\u001b[39m\u001b[33m'\u001b[39m]:\n\u001b[32m----> \u001b[39m\u001b[32m5\u001b[39m     results[\u001b[33m'\u001b[39m\u001b[33mresults\u001b[39m\u001b[33m'\u001b[39m].append([\u001b[43mdeterminant\u001b[49m\u001b[43m(\u001b[49m\u001b[43m*\u001b[49m\u001b[43m*\u001b[49m\u001b[43margs\u001b[49m\u001b[43m)\u001b[49m])\n\u001b[32m      7\u001b[39m json_tricks.dump(results, \u001b[33m'\u001b[39m\u001b[33m.answer.json\u001b[39m\u001b[33m'\u001b[39m)\n",
                        "\u001b[36mCell\u001b[39m\u001b[36m \u001b[39m\u001b[32mIn[7]\u001b[39m\u001b[32m, line 15\u001b[39m, in \u001b[36mdeterminant\u001b[39m\u001b[34m(A)\u001b[39m\n\u001b[32m     12\u001b[39m     product = np.prod([A[i, perm[i]] \u001b[38;5;28;01mfor\u001b[39;00m i \u001b[38;5;129;01min\u001b[39;00m \u001b[38;5;28mrange\u001b[39m(n)])\n\u001b[32m     13\u001b[39m     det += sign * product\n\u001b[32m---> \u001b[39m\u001b[32m15\u001b[39m \u001b[38;5;28;01mreturn\u001b[39;00m det, \u001b[38;5;28msorted\u001b[39m(elements)\n",
                        "\u001b[31mValueError\u001b[39m: The truth value of an array with more than one element is ambiguous. Use a.any() or a.all()"
                    ]
                }
            ],
            "source": [
                "inputs = json_tricks.load('inputs/inputs.json')\n",
                "results = {'results': []}\n",
                "\n",
                "for args in inputs['inputs']:\n",
                "    results['results'].append([determinant(**args)])\n",
                "\n",
                "json_tricks.dump(results, '.answer.json')"
            ]
        }
    ],
    "metadata": {
        "kernelspec": {
            "display_name": ".venv",
            "language": "python",
            "name": "python3"
        },
        "language_info": {
            "codemirror_mode": {
                "name": "ipython",
                "version": 3
            },
            "file_extension": ".py",
            "mimetype": "text/x-python",
            "name": "python",
            "nbconvert_exporter": "python",
            "pygments_lexer": "ipython3",
            "version": "3.11.13"
        }
    },
    "nbformat": 4,
    "nbformat_minor": 2
}
