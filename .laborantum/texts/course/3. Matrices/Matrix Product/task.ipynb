{
    "cells": [
        {
            "cell_type": "code",
            "execution_count": 5,
            "id": "acceacb5",
            "metadata": {},
            "outputs": [],
            "source": [
                "import numpy as np\n",
                "import json_tricks\n",
                "\n",
                "answer = {}\n",
                "\n",
                "\n",
                "inputs = json_tricks.load('inputs/inputs.json')\n"
            ]
        },
        {
            "cell_type": "markdown",
            "id": "2a65a805",
            "metadata": {},
            "source": [
                "# Matrix Product II\n",
                "\n",
                "$$A_{5 \\times 10} \\  B_{10 \\times 2}\\ C_{2 \\times 30}\\ D_{30 \\times 3}\\ E_{3 \\times 9}$$\n",
                "\n",
                "1. What will be the shape of the resulting matrix?\n",
                "2. How many multiplication of numbers are required at best?"
            ]
        },
        {
            "cell_type": "code",
            "execution_count": null,
            "id": "70ec671d",
            "metadata": {},
            "outputs": [],
            "source": [
                "answer['task1'] = {\n",
                "    '1': [5, 9],\n",
                "    '2': 424\n",
                "}\n",
                "\n"
            ]
        },
        {
            "cell_type": "markdown",
            "id": "a134c56f",
            "metadata": {},
            "source": [
                "# Numpy expression\n",
                "\n",
                "Using Numpy, write a function that calculates the \n",
                "following expression:\n",
                "\n",
                "$$\\exp(A^T(B + 2C) + 3I) \\mathbf x,$$\n",
                "\n",
                "where $I$ is an identity matrix of the necessary shape."
            ]
        },
        {
            "cell_type": "code",
            "execution_count": 15,
            "id": "71c02732",
            "metadata": {},
            "outputs": [],
            "source": [
                "def numpy_expression(A, B, C, x):\n",
                "    res = np.exp(A.T @ (B + 2 * C) + 3 * np.eye(A.shape[0])) @ x\n",
                "    return res"
            ]
        },
        {
            "cell_type": "code",
            "execution_count": 16,
            "id": "e93e082d",
            "metadata": {},
            "outputs": [],
            "source": [
                "answer['task2'] = []\n",
                "for one_input in inputs['task2']:\n",
                "    answer['task2'].append(numpy_expression(**one_input))"
            ]
        },
        {
            "cell_type": "markdown",
            "id": "2aef45b9",
            "metadata": {},
            "source": [
                "# Einstein's Rule\n",
                "\n",
                "In *Tensor Algebra*, a direct generalization of the Linear Algebra to the case of $N$-dimentional tables called *tensors* (normal matrix), the Einstein's rule exists.\n",
                "\n",
                "It works as follows: if you see a duplicating upper and lower index in the formula, that means, this index convolves.\n",
                "\n",
                "For example, the following tensor expression, summation and matrix product are equivalent:\n",
                "\n",
                "$$a_k^l b_l^m = \\sum_{l=1}^L a_k^l b_l^m = AB$$\n",
                "\n",
                "In this notation subscript means row index and superscript means column index.\n",
                "\n",
                "<details>\n",
                "<summary> Note </summary>\n",
                "\n",
                "> [!NOTE]\n",
                "> Also at some point it will be important to know that:\n",
                "> * lower index represents a contravariant dimension of a\n",
                "> tensor\n",
                "> * upper index represents a covariant dimension \n",
                "> of tensor. But let us omit this part for now.\n",
                "\n",
                "</details>\n",
                "\n",
                "# Task\n",
                "\n",
                "Calculate the following expression written using Einstein's \n",
                "rule:\n",
                "\n",
                "$$a_k^m b_m^n c_n^o d_l^k$$"
            ]
        },
        {
            "cell_type": "code",
            "execution_count": 17,
            "id": "3feb6914",
            "metadata": {},
            "outputs": [],
            "source": [
                "def einsteins_rule(A, B, C, D):\n",
                "    res = D @ A @ B @ C\n",
                "    ## YOUR CODE HERE\n",
                "    return res"
            ]
        },
        {
            "cell_type": "code",
            "execution_count": 18,
            "id": "f9cd1e7e",
            "metadata": {},
            "outputs": [],
            "source": [
                "answer['task3'] = []\n",
                "for one_input in inputs['task3']:\n",
                "    answer['task3'].append(einsteins_rule(**one_input))"
            ]
        },
        {
            "cell_type": "markdown",
            "id": "ad37cd42",
            "metadata": {},
            "source": [
                "# Diagonal Matrix Product\n",
                "\n",
                "You are given two square matrices: $A$ and $D$, where $A$ is a \n",
                "full matrix and $D$ is a diagonal matrix:\n",
                "\n",
                "$$\n",
                "A = \\begin{bmatrix}\n",
                "- & \\mathbf a_1 & - \\\\\n",
                "& \\vdots & \\\\\n",
                "- & \\mathbf a_N & - \\\\\n",
                "\\end{bmatrix}\n",
                "$$\n",
                "\n",
                "$$\n",
                "D = \\textrm{diag}(d_1, d_2, \\dots, d_N) = \\begin{bmatrix}\n",
                "d_1 & & & & \\\\\n",
                "& d_2 & & & \\\\\n",
                "& & d_3 & & \\\\\n",
                "& & & \\ddots & \\\\\n",
                "& & & & d_N \n",
                "\\end{bmatrix}\n",
                "$$\n",
                "\n",
                "Write a program to calculate the result of $DA$ and $AD$ in \n",
                "the fastest possible way."
            ]
        },
        {
            "cell_type": "code",
            "execution_count": null,
            "id": "af333a41",
            "metadata": {},
            "outputs": [],
            "source": [
                "def diag_prod_DA(D, A):\n",
                "    res = A.copy()\n",
                "    for row in range(A.shape[0]):\n",
                "        res[row, :] *= D[row, row]\n",
                "    return res\n",
                "\n",
                "def diag_prod_AD(A, D):\n",
                "    res = A.copy()\n",
                "    for col in range(A.shape[1]):\n",
                "        res[:, col] *= D[col, col]\n",
                "    return res\n"
            ]
        },
        {
            "cell_type": "code",
            "execution_count": 22,
            "id": "68f65717",
            "metadata": {},
            "outputs": [],
            "source": [
                "answer['task4_1'] = []\n",
                "answer['task4_2'] = []\n",
                "for one_input in inputs['task4']:\n",
                "    answer['task4_1'].append(diag_prod_DA(**one_input))\n",
                "    answer['task4_2'].append(diag_prod_AD(**one_input))"
            ]
        },
        {
            "cell_type": "markdown",
            "id": "fc7b3dc4",
            "metadata": {},
            "source": [
                "# Sparse Matrix Product\n",
                "\n",
                "You are given two matrices of the same shape: $A$ and $B$. Matrix $A$ is full\n",
                "and is given in the form of `numpy.ndarray`.\n",
                "\n",
                "The second matrix $B$ is **sparse**. That means that the \n",
                "majority of the items are equal to $0$ except for $M$. This matrix is given\n",
                "as a set of non-zero elements of this matrix in form of $3 \\times M$ `numpy.ndarray` as row-column-value tuple (COO sparse matrix form):\n",
                "\n",
                "$$\n",
                "\\begin{bmatrix}\n",
                "r_1 & c_1 & v_1 \\\\\n",
                "r_2 & c_2 & v_2 \\\\\n",
                "& \\vdots & \\\\\n",
                "r_M & c_M & v_M \\\\\n",
                "\\end{bmatrix}\n",
                "$$\n",
                "\n",
                "If in this struct two items correspond to the same location, consider the latter is correct.\n",
                "\n",
                "Write the most efficient program that calculates $AB$.\n",
                "\n",
                "Also return the ratio between the number of multiplication operations that are needed to calculate the sparse product and the number of operations for full product."
            ]
        },
        {
            "cell_type": "code",
            "execution_count": null,
            "id": "6a439900",
            "metadata": {},
            "outputs": [],
            "source": [
                "def sparse_matrix_product(A, B_sparse):\n",
                "    m = A.shape[0]\n",
                "    p = m\n",
                "    ratio = 0\n",
                "\n",
                "    res = np.zeros((m, p))\n",
                "\n",
                "    for col, row, val in B_sparse.T:\n",
                "        res[:, col] += A[:, row] * val\n",
                "        ratio += 1\n",
                "\n",
                "    ratio /= m * p\n",
                "\n",
                "    return res, ratio"
            ]
        },
        {
            "cell_type": "code",
            "execution_count": 38,
            "id": "2db5922f",
            "metadata": {},
            "outputs": [],
            "source": [
                "answer['task5'] = []\n",
                "for one_input in inputs['task5']:\n",
                "    answer['task5'].append(sparse_matrix_product(**one_input))"
            ]
        },
        {
            "cell_type": "code",
            "execution_count": 39,
            "id": "08e12548",
            "metadata": {},
            "outputs": [
                {
                    "ename": "TypeError",
                    "evalue": "Object of type <class 'ellipsis'> could not be encoded by TricksEncoder using encoders [<function filtered_wrapper.<locals>.wrapper at 0xffff68047060>, <function filtered_wrapper.<locals>.wrapper at 0xffff680472e0>, <function filtered_wrapper.<locals>.wrapper at 0xffff68047380>, <function filtered_wrapper.<locals>.wrapper at 0xffff68047420>, <function filtered_wrapper.<locals>.wrapper at 0xffff680476a0>, <function filtered_wrapper.<locals>.wrapper at 0xffff680474c0>, <function filtered_wrapper.<locals>.wrapper at 0xffff680479c0>, <function filtered_wrapper.<locals>.wrapper at 0xffff680477e0>, <function filtered_wrapper.<locals>.wrapper at 0xffff68047740>, <function filtered_wrapper.<locals>.wrapper at 0xffff68047a60>, <function filtered_wrapper.<locals>.wrapper at 0xffff68047c40>]. You can add an encoders for this type using `extra_obj_encoders`. If you want to 'skip' this object, consider using `fallback_encoders` like `str` or `lambda o: None`.",
                    "output_type": "error",
                    "traceback": [
                        "\u001b[31m---------------------------------------------------------------------------\u001b[39m",
                        "\u001b[31mTypeError\u001b[39m                                 Traceback (most recent call last)",
                        "\u001b[36mCell\u001b[39m\u001b[36m \u001b[39m\u001b[32mIn[39]\u001b[39m\u001b[32m, line 1\u001b[39m\n\u001b[32m----> \u001b[39m\u001b[32m1\u001b[39m \u001b[43mjson_tricks\u001b[49m\u001b[43m.\u001b[49m\u001b[43mdump\u001b[49m\u001b[43m(\u001b[49m\u001b[43manswer\u001b[49m\u001b[43m,\u001b[49m\u001b[43m \u001b[49m\u001b[33;43m'\u001b[39;49m\u001b[33;43m.answer.json\u001b[39;49m\u001b[33;43m'\u001b[39;49m\u001b[43m)\u001b[49m\n",
                        "\u001b[36mFile \u001b[39m\u001b[32m/workspaces/linear-algebra-part-1/.venv/lib/python3.11/site-packages/json_tricks/nonp.py:151\u001b[39m, in \u001b[36mdump\u001b[39m\u001b[34m(obj, fp, sort_keys, cls, obj_encoders, extra_obj_encoders, primitives, compression, force_flush, allow_nan, conv_str_byte, fallback_encoders, properties, **jsonkwargs)\u001b[39m\n\u001b[32m    149\u001b[39m \u001b[38;5;28;01mif\u001b[39;00m (\u001b[38;5;28misinstance\u001b[39m(obj, str_type) \u001b[38;5;129;01mor\u001b[39;00m \u001b[38;5;28mhasattr\u001b[39m(obj, \u001b[33m'\u001b[39m\u001b[33mwrite\u001b[39m\u001b[33m'\u001b[39m)) \u001b[38;5;129;01mand\u001b[39;00m \u001b[38;5;28misinstance\u001b[39m(fp, (\u001b[38;5;28mlist\u001b[39m, \u001b[38;5;28mdict\u001b[39m)):\n\u001b[32m    150\u001b[39m \t\u001b[38;5;28;01mraise\u001b[39;00m \u001b[38;5;167;01mValueError\u001b[39;00m(\u001b[33m'\u001b[39m\u001b[33mjson-tricks dump arguments are in the wrong order: provide the data to be serialized before file handle\u001b[39m\u001b[33m'\u001b[39m)\n\u001b[32m--> \u001b[39m\u001b[32m151\u001b[39m txt = \u001b[43mdumps\u001b[49m\u001b[43m(\u001b[49m\u001b[43mobj\u001b[49m\u001b[43m,\u001b[49m\u001b[43m \u001b[49m\u001b[43msort_keys\u001b[49m\u001b[43m=\u001b[49m\u001b[43msort_keys\u001b[49m\u001b[43m,\u001b[49m\u001b[43m \u001b[49m\u001b[38;5;28;43mcls\u001b[39;49m\u001b[43m=\u001b[49m\u001b[38;5;28;43mcls\u001b[39;49m\u001b[43m,\u001b[49m\u001b[43m \u001b[49m\u001b[43mobj_encoders\u001b[49m\u001b[43m=\u001b[49m\u001b[43mobj_encoders\u001b[49m\u001b[43m,\u001b[49m\u001b[43m \u001b[49m\u001b[43mextra_obj_encoders\u001b[49m\u001b[43m=\u001b[49m\u001b[43mextra_obj_encoders\u001b[49m\u001b[43m,\u001b[49m\n\u001b[32m    152\u001b[39m \u001b[43m\t\u001b[49m\u001b[43mprimitives\u001b[49m\u001b[43m=\u001b[49m\u001b[43mprimitives\u001b[49m\u001b[43m,\u001b[49m\u001b[43m \u001b[49m\u001b[43mcompression\u001b[49m\u001b[43m=\u001b[49m\u001b[43mcompression\u001b[49m\u001b[43m,\u001b[49m\u001b[43m \u001b[49m\u001b[43mallow_nan\u001b[49m\u001b[43m=\u001b[49m\u001b[43mallow_nan\u001b[49m\u001b[43m,\u001b[49m\u001b[43m \u001b[49m\u001b[43mconv_str_byte\u001b[49m\u001b[43m=\u001b[49m\u001b[43mconv_str_byte\u001b[49m\u001b[43m,\u001b[49m\n\u001b[32m    153\u001b[39m \u001b[43m\t\u001b[49m\u001b[43mfallback_encoders\u001b[49m\u001b[43m=\u001b[49m\u001b[43mfallback_encoders\u001b[49m\u001b[43m,\u001b[49m\u001b[43m \u001b[49m\u001b[43mproperties\u001b[49m\u001b[43m=\u001b[49m\u001b[43mproperties\u001b[49m\u001b[43m,\u001b[49m\u001b[43m \u001b[49m\u001b[43m*\u001b[49m\u001b[43m*\u001b[49m\u001b[43mjsonkwargs\u001b[49m\u001b[43m)\u001b[49m\n\u001b[32m    154\u001b[39m \u001b[38;5;28;01mif\u001b[39;00m \u001b[38;5;28misinstance\u001b[39m(fp, str_type):\n\u001b[32m    155\u001b[39m \t\u001b[38;5;28;01mif\u001b[39;00m compression:\n",
                        "\u001b[36mFile \u001b[39m\u001b[32m/workspaces/linear-algebra-part-1/.venv/lib/python3.11/site-packages/json_tricks/nonp.py:125\u001b[39m, in \u001b[36mdumps\u001b[39m\u001b[34m(obj, sort_keys, cls, obj_encoders, extra_obj_encoders, primitives, compression, allow_nan, conv_str_byte, fallback_encoders, properties, **jsonkwargs)\u001b[39m\n\u001b[32m    121\u001b[39m \t\u001b[38;5;28mcls\u001b[39m = TricksEncoder\n\u001b[32m    122\u001b[39m combined_encoder = \u001b[38;5;28mcls\u001b[39m(sort_keys=sort_keys, obj_encoders=encoders, allow_nan=allow_nan,\n\u001b[32m    123\u001b[39m \tprimitives=primitives, fallback_encoders=fallback_encoders,\n\u001b[32m    124\u001b[39m   \tproperties=properties, **jsonkwargs)\n\u001b[32m--> \u001b[39m\u001b[32m125\u001b[39m txt = \u001b[43mcombined_encoder\u001b[49m\u001b[43m.\u001b[49m\u001b[43mencode\u001b[49m\u001b[43m(\u001b[49m\u001b[43mobj\u001b[49m\u001b[43m)\u001b[49m\n\u001b[32m    126\u001b[39m \u001b[38;5;28;01mif\u001b[39;00m \u001b[38;5;129;01mnot\u001b[39;00m is_py3 \u001b[38;5;129;01mand\u001b[39;00m \u001b[38;5;28misinstance\u001b[39m(txt, \u001b[38;5;28mstr\u001b[39m):\n\u001b[32m    127\u001b[39m \ttxt = unicode(txt, ENCODING)\n",
                        "\u001b[36mFile \u001b[39m\u001b[32m/usr/local/lib/python3.11/json/encoder.py:200\u001b[39m, in \u001b[36mJSONEncoder.encode\u001b[39m\u001b[34m(self, o)\u001b[39m\n\u001b[32m    196\u001b[39m         \u001b[38;5;28;01mreturn\u001b[39;00m encode_basestring(o)\n\u001b[32m    197\u001b[39m \u001b[38;5;66;03m# This doesn't pass the iterator directly to ''.join() because the\u001b[39;00m\n\u001b[32m    198\u001b[39m \u001b[38;5;66;03m# exceptions aren't as detailed.  The list call should be roughly\u001b[39;00m\n\u001b[32m    199\u001b[39m \u001b[38;5;66;03m# equivalent to the PySequence_Fast that ''.join() would do.\u001b[39;00m\n\u001b[32m--> \u001b[39m\u001b[32m200\u001b[39m chunks = \u001b[38;5;28;43mself\u001b[39;49m\u001b[43m.\u001b[49m\u001b[43miterencode\u001b[49m\u001b[43m(\u001b[49m\u001b[43mo\u001b[49m\u001b[43m,\u001b[49m\u001b[43m \u001b[49m\u001b[43m_one_shot\u001b[49m\u001b[43m=\u001b[49m\u001b[38;5;28;43;01mTrue\u001b[39;49;00m\u001b[43m)\u001b[49m\n\u001b[32m    201\u001b[39m \u001b[38;5;28;01mif\u001b[39;00m \u001b[38;5;129;01mnot\u001b[39;00m \u001b[38;5;28misinstance\u001b[39m(chunks, (\u001b[38;5;28mlist\u001b[39m, \u001b[38;5;28mtuple\u001b[39m)):\n\u001b[32m    202\u001b[39m     chunks = \u001b[38;5;28mlist\u001b[39m(chunks)\n",
                        "\u001b[36mFile \u001b[39m\u001b[32m/usr/local/lib/python3.11/json/encoder.py:258\u001b[39m, in \u001b[36mJSONEncoder.iterencode\u001b[39m\u001b[34m(self, o, _one_shot)\u001b[39m\n\u001b[32m    253\u001b[39m \u001b[38;5;28;01melse\u001b[39;00m:\n\u001b[32m    254\u001b[39m     _iterencode = _make_iterencode(\n\u001b[32m    255\u001b[39m         markers, \u001b[38;5;28mself\u001b[39m.default, _encoder, \u001b[38;5;28mself\u001b[39m.indent, floatstr,\n\u001b[32m    256\u001b[39m         \u001b[38;5;28mself\u001b[39m.key_separator, \u001b[38;5;28mself\u001b[39m.item_separator, \u001b[38;5;28mself\u001b[39m.sort_keys,\n\u001b[32m    257\u001b[39m         \u001b[38;5;28mself\u001b[39m.skipkeys, _one_shot)\n\u001b[32m--> \u001b[39m\u001b[32m258\u001b[39m \u001b[38;5;28;01mreturn\u001b[39;00m \u001b[43m_iterencode\u001b[49m\u001b[43m(\u001b[49m\u001b[43mo\u001b[49m\u001b[43m,\u001b[49m\u001b[43m \u001b[49m\u001b[32;43m0\u001b[39;49m\u001b[43m)\u001b[49m\n",
                        "\u001b[36mFile \u001b[39m\u001b[32m/workspaces/linear-algebra-part-1/.venv/lib/python3.11/site-packages/json_tricks/encoders.py:78\u001b[39m, in \u001b[36mTricksEncoder.default\u001b[39m\u001b[34m(self, obj, *args, **kwargs)\u001b[39m\n\u001b[32m     76\u001b[39m \tobj = encoder(obj, primitives=\u001b[38;5;28mself\u001b[39m.primitives, is_changed=\u001b[38;5;28mid\u001b[39m(obj) != prev_id, properties=\u001b[38;5;28mself\u001b[39m.properties)\n\u001b[32m     77\u001b[39m \u001b[38;5;28;01mif\u001b[39;00m \u001b[38;5;28mid\u001b[39m(obj) == prev_id:\n\u001b[32m---> \u001b[39m\u001b[32m78\u001b[39m \t\u001b[38;5;28;01mraise\u001b[39;00m \u001b[38;5;167;01mTypeError\u001b[39;00m((\u001b[33m'\u001b[39m\u001b[33mObject of type \u001b[39m\u001b[38;5;132;01m{0:}\u001b[39;00m\u001b[33m could not be encoded by \u001b[39m\u001b[38;5;132;01m{1:}\u001b[39;00m\u001b[33m using encoders [\u001b[39m\u001b[38;5;132;01m{2:s}\u001b[39;00m\u001b[33m]. \u001b[39m\u001b[33m'\u001b[39m\n\u001b[32m     79\u001b[39m \t\t\u001b[33m'\u001b[39m\u001b[33mYou can add an encoders for this type using `extra_obj_encoders`. If you want to \u001b[39m\u001b[38;5;130;01m\\'\u001b[39;00m\u001b[33mskip\u001b[39m\u001b[38;5;130;01m\\'\u001b[39;00m\u001b[33m this \u001b[39m\u001b[33m'\u001b[39m\n\u001b[32m     80\u001b[39m \t\t\u001b[33m'\u001b[39m\u001b[33mobject, consider using `fallback_encoders` like `str` or `lambda o: None`.\u001b[39m\u001b[33m'\u001b[39m).format(\n\u001b[32m     81\u001b[39m \t\t\t\u001b[38;5;28mtype\u001b[39m(obj), \u001b[38;5;28mself\u001b[39m.\u001b[34m__class__\u001b[39m.\u001b[34m__name__\u001b[39m, \u001b[33m'\u001b[39m\u001b[33m, \u001b[39m\u001b[33m'\u001b[39m.join(\u001b[38;5;28mstr\u001b[39m(encoder) \u001b[38;5;28;01mfor\u001b[39;00m encoder \u001b[38;5;129;01min\u001b[39;00m \u001b[38;5;28mself\u001b[39m.obj_encoders)))\n\u001b[32m     82\u001b[39m \u001b[38;5;28;01mreturn\u001b[39;00m obj\n",
                        "\u001b[31mTypeError\u001b[39m: Object of type <class 'ellipsis'> could not be encoded by TricksEncoder using encoders [<function filtered_wrapper.<locals>.wrapper at 0xffff68047060>, <function filtered_wrapper.<locals>.wrapper at 0xffff680472e0>, <function filtered_wrapper.<locals>.wrapper at 0xffff68047380>, <function filtered_wrapper.<locals>.wrapper at 0xffff68047420>, <function filtered_wrapper.<locals>.wrapper at 0xffff680476a0>, <function filtered_wrapper.<locals>.wrapper at 0xffff680474c0>, <function filtered_wrapper.<locals>.wrapper at 0xffff680479c0>, <function filtered_wrapper.<locals>.wrapper at 0xffff680477e0>, <function filtered_wrapper.<locals>.wrapper at 0xffff68047740>, <function filtered_wrapper.<locals>.wrapper at 0xffff68047a60>, <function filtered_wrapper.<locals>.wrapper at 0xffff68047c40>]. You can add an encoders for this type using `extra_obj_encoders`. If you want to 'skip' this object, consider using `fallback_encoders` like `str` or `lambda o: None`."
                    ]
                }
            ],
            "source": [
                "json_tricks.dump(answer, '.answer.json')"
            ]
        }
    ],
    "metadata": {
        "kernelspec": {
            "display_name": ".venv",
            "language": "python",
            "name": "python3"
        },
        "language_info": {
            "codemirror_mode": {
                "name": "ipython",
                "version": 3
            },
            "file_extension": ".py",
            "mimetype": "text/x-python",
            "name": "python",
            "nbconvert_exporter": "python",
            "pygments_lexer": "ipython3",
            "version": "3.11.13"
        }
    },
    "nbformat": 4,
    "nbformat_minor": 5
}
